{
  "nbformat": 4,
  "nbformat_minor": 0,
  "metadata": {
    "colab": {
      "provenance": []
    },
    "kernelspec": {
      "name": "python3",
      "display_name": "Python 3"
    },
    "language_info": {
      "name": "python"
    }
  },
  "cells": [
    {
      "cell_type": "code",
      "execution_count": 1,
      "metadata": {
        "id": "n-ZOHAIpNLqp"
      },
      "outputs": [],
      "source": [
        "import numpy as np"
      ]
    },
    {
      "cell_type": "markdown",
      "metadata": {
        "id": "7b0aa953"
      },
      "source": [
        "### Задача №1"
      ]
    },
    {
      "cell_type": "code",
      "source": [
        "A = np.matrix([[1, 2, 1],\n",
        "              [-2, 1, 1]])\n",
        "\n",
        "B = np.matrix([[3, 1],\n",
        "              [-1, 0],\n",
        "              [2, 4]])\n",
        "\n",
        "C = np.matrix([[-2, 2],\n",
        "              [1, -1],\n",
        "              [1, 2]])\n",
        "\n",
        "result = A + 2 * B.transpose()\n",
        "result_2 = B + 2 * C\n",
        "\n",
        "print(\"Ответ первой задачи: \\n\", result,\"\\n \\n\", result_2)"
      ],
      "metadata": {
        "colab": {
          "base_uri": "https://localhost:8080/"
        },
        "id": "VnqazeMOOpYf",
        "outputId": "55a38f87-51a7-47c6-d098-7e7acbd2f9be"
      },
      "execution_count": 14,
      "outputs": [
        {
          "output_type": "stream",
          "name": "stdout",
          "text": [
            "Ответ первой задачи: \n",
            " [[7 0 5]\n",
            " [0 1 9]] \n",
            " \n",
            " [[-1  5]\n",
            " [ 1 -2]\n",
            " [ 4  8]]\n"
          ]
        }
      ]
    },
    {
      "cell_type": "markdown",
      "metadata": {
        "id": "c21d848b"
      },
      "source": [
        "### Задача №2"
      ]
    },
    {
      "cell_type": "code",
      "source": [
        "x = np.zeros((8,8),dtype='int32')\n",
        "x[1::2,::2] = 1\n",
        "x[::2,1::2] = 1\n",
        "\n",
        "print(x)"
      ],
      "metadata": {
        "colab": {
          "base_uri": "https://localhost:8080/"
        },
        "id": "jczzKz8XQXqK",
        "outputId": "bf754f69-fc9f-4cee-c5d0-f25ec02d081f"
      },
      "execution_count": 17,
      "outputs": [
        {
          "output_type": "stream",
          "name": "stdout",
          "text": [
            "[[0 1 0 1 0 1 0 1]\n",
            " [1 0 1 0 1 0 1 0]\n",
            " [0 1 0 1 0 1 0 1]\n",
            " [1 0 1 0 1 0 1 0]\n",
            " [0 1 0 1 0 1 0 1]\n",
            " [1 0 1 0 1 0 1 0]\n",
            " [0 1 0 1 0 1 0 1]\n",
            " [1 0 1 0 1 0 1 0]]\n"
          ]
        }
      ]
    },
    {
      "cell_type": "markdown",
      "metadata": {
        "id": "a94e6c37"
      },
      "source": [
        "### Задача №3"
      ]
    },
    {
      "cell_type": "code",
      "source": [
        "vector_1 = np.arange(0,1.5,0.1)\n",
        "\n",
        "vector_2 = np.arange(0,6, dtype='int')\n",
        "\n",
        "print(f'количество элементов = {len(vector_1)}')\n",
        "print(vector_1)\n",
        "\n",
        "print(f'количество элементов = {len(vector_2)}')\n",
        "print(vector_2)"
      ],
      "metadata": {
        "colab": {
          "base_uri": "https://localhost:8080/"
        },
        "id": "T8TtKvRGRchm",
        "outputId": "504dbdfd-fdbc-4b57-dc24-9f91b13d5f4c"
      },
      "execution_count": 24,
      "outputs": [
        {
          "output_type": "stream",
          "name": "stdout",
          "text": [
            "количество элементов = 15\n",
            "[0.  0.1 0.2 0.3 0.4 0.5 0.6 0.7 0.8 0.9 1.  1.1 1.2 1.3 1.4]\n",
            "количество элементов = 6\n",
            "[0 1 2 3 4 5]\n"
          ]
        }
      ]
    },
    {
      "cell_type": "code",
      "source": [
        "matrix1 = vector_1.reshape(5,3)\n",
        "\n",
        "matrix2 = vector_2.reshape((3,2))\n",
        "\n",
        "print(\"Матрица 5х3 вектора1:  \\n\",\n",
        "    matrix1)\n",
        "print(\"Матрица 3х2 вектора2:  \\n\",\n",
        "    matrix2)\n",
        "print(\"Произведение матриц:  \\n\",\n",
        "np.dot(matrix1, matrix2))"
      ],
      "metadata": {
        "colab": {
          "base_uri": "https://localhost:8080/"
        },
        "id": "xRPWRdQESAv5",
        "outputId": "2e21c2b2-e497-4070-eac3-0522b83d5244"
      },
      "execution_count": 25,
      "outputs": [
        {
          "output_type": "stream",
          "name": "stdout",
          "text": [
            "Матрица 5х3 вектора1:  \n",
            " [[0.  0.1 0.2]\n",
            " [0.3 0.4 0.5]\n",
            " [0.6 0.7 0.8]\n",
            " [0.9 1.  1.1]\n",
            " [1.2 1.3 1.4]]\n",
            "Матрица 3х2 вектора2:  \n",
            " [[0 1]\n",
            " [2 3]\n",
            " [4 5]]\n",
            "Произведение матриц:  \n",
            " [[ 1.   1.3]\n",
            " [ 2.8  4. ]\n",
            " [ 4.6  6.7]\n",
            " [ 6.4  9.4]\n",
            " [ 8.2 12.1]]\n"
          ]
        }
      ]
    },
    {
      "cell_type": "markdown",
      "metadata": {
        "id": "35bb4c3f"
      },
      "source": [
        "### Задача №4"
      ]
    },
    {
      "cell_type": "code",
      "source": [
        "vector_3 = np.arange(1,72,2)\n",
        "\n",
        "print(f\"Вектор из {len(vector_3)} элементов :  \\n\",\n",
        "    *vector_3)"
      ],
      "metadata": {
        "colab": {
          "base_uri": "https://localhost:8080/"
        },
        "id": "2_Q5FXNFTJNt",
        "outputId": "c4981066-9ea5-467e-dea9-e467806e171c"
      },
      "execution_count": 30,
      "outputs": [
        {
          "output_type": "stream",
          "name": "stdout",
          "text": [
            "Вектор из 36 элементов :  \n",
            " 1 3 5 7 9 11 13 15 17 19 21 23 25 27 29 31 33 35 37 39 41 43 45 47 49 51 53 55 57 59 61 63 65 67 69 71\n"
          ]
        }
      ]
    },
    {
      "cell_type": "code",
      "source": [
        "result_list = []\n",
        "for i in vector_3:\n",
        "    if i % 3 == 0:\n",
        "        result_list.append(i)\n",
        "print(\"Исходный вектор :  \\n\", *vector_3)\n",
        "print(\"Элементы со значениями кратными 3 :  \\n\", *result_list)"
      ],
      "metadata": {
        "colab": {
          "base_uri": "https://localhost:8080/"
        },
        "id": "941luhz-UVlg",
        "outputId": "c54be9b5-308b-4095-969b-b8662f7e85a9"
      },
      "execution_count": 36,
      "outputs": [
        {
          "output_type": "stream",
          "name": "stdout",
          "text": [
            "Исходный вектор :  \n",
            " 1 3 5 7 9 11 13 15 17 19 21 23 25 27 29 31 33 35 37 39 41 43 45 47 49 51 53 55 57 59 61 63 65 67 69 71\n",
            "Элементы со значениями кратными 3 :  \n",
            " 3 9 15 21 27 33 39 45 51 57 63 69\n"
          ]
        }
      ]
    }
  ]
}