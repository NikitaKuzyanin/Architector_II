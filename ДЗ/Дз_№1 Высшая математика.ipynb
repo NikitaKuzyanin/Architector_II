{
  "nbformat": 4,
  "nbformat_minor": 0,
  "metadata": {
    "colab": {
      "provenance": []
    },
    "kernelspec": {
      "name": "python3",
      "display_name": "Python 3"
    },
    "language_info": {
      "name": "python"
    }
  },
  "cells": [
    {
      "cell_type": "code",
      "execution_count": null,
      "metadata": {
        "id": "y1qKTvX9cz6B"
      },
      "outputs": [],
      "source": [
        "import numpy as np"
      ]
    },
    {
      "cell_type": "code",
      "source": [
        "a = np.matrix([[6, -8, 3]])\n",
        "b = np.matrix([[1],\n",
        "               [1],\n",
        "               [4]])\n",
        "c = a*b\n",
        "print('Ответ первой задачи:', c)"
      ],
      "metadata": {
        "colab": {
          "base_uri": "https://localhost:8080/"
        },
        "id": "Elv6xpMBhddD",
        "outputId": "869abaa7-453e-471c-e46b-6c9044869bdf"
      },
      "execution_count": null,
      "outputs": [
        {
          "output_type": "stream",
          "name": "stdout",
          "text": [
            "Ответ первой задачи: [[10]]\n"
          ]
        }
      ]
    },
    {
      "cell_type": "code",
      "source": [
        "a = np.matrix([[-3, 7],\n",
        "               [-10, 6],\n",
        "               [0, -6],\n",
        "               [-1, 3]])\n",
        "b = np.matrix([[-8, 9],\n",
        "               [4, -2]])\n",
        "c = a*b\n",
        "print('Ответ второй задачи:')\n",
        "print(c)"
      ],
      "metadata": {
        "colab": {
          "base_uri": "https://localhost:8080/"
        },
        "id": "WUsRkbM-hj8M",
        "outputId": "bdb752be-b040-41c7-e9ba-70156110701f"
      },
      "execution_count": null,
      "outputs": [
        {
          "output_type": "stream",
          "name": "stdout",
          "text": [
            "Ответ второй задачи:\n",
            "[[  52  -41]\n",
            " [ 104 -102]\n",
            " [ -24   12]\n",
            " [  20  -15]]\n"
          ]
        }
      ]
    },
    {
      "cell_type": "code",
      "source": [
        "def second():\n",
        "    a = np.matrix([[-3, 7],\n",
        "                [-10, 6],\n",
        "                [0, -6],\n",
        "                [-1, 3]])\n",
        "    b = np.matrix([[-8, 9],\n",
        "                [4, -2]])\n",
        "    c = a*b\n",
        "    print(c)\n",
        "second()"
      ],
      "metadata": {
        "colab": {
          "base_uri": "https://localhost:8080/"
        },
        "id": "5DH8AalllU2T",
        "outputId": "140e3014-5c0e-4a61-f715-c34202636d97"
      },
      "execution_count": null,
      "outputs": [
        {
          "output_type": "stream",
          "name": "stdout",
          "text": [
            "[[  52  -41]\n",
            " [ 104 -102]\n",
            " [ -24   12]\n",
            " [  20  -15]]\n"
          ]
        }
      ]
    }
  ]
}